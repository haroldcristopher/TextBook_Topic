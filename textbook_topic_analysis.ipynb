{
  "cells": [
    {
      "cell_type": "code",
      "execution_count": 1,
      "metadata": {
        "id": "BQbY46it1Sbz"
      },
      "outputs": [],
      "source": [
        "from pathlib import Path\n",
        "\n",
        "try:\n",
        "    from google.colab import drive\n",
        "    drive.mount(\"/content/drive\")\n",
        "    ROOT = Path('/content/drive/MyDrive/textbook-topic-analysis')\n",
        "except ImportError:\n",
        "    ROOT = Path(\".\")"
      ]
    },
    {
      "cell_type": "code",
      "execution_count": 2,
      "metadata": {
        "vscode": {
          "languageId": "shellscript"
        }
      },
      "outputs": [],
      "source": [
        "%%capture\n",
        "! pip install -r {str(ROOT / \"requirements.txt\")}"
      ]
    },
    {
      "cell_type": "code",
      "execution_count": 3,
      "metadata": {
        "id": "ygFlQ8eM1ynA"
      },
      "outputs": [],
      "source": [
        "from parse import process_files\n",
        "\n",
        "PARSED_TEXTBOOKS_DIRECTORY = ROOT / \"parsed_textbooks\"\n",
        "if not PARSED_TEXTBOOKS_DIRECTORY.exists():\n",
        "    PARSED_TEXTBOOKS_DIRECTORY.mkdir()\n",
        "\n",
        "file_mapping = {\n",
        "    path: PARSED_TEXTBOOKS_DIRECTORY / (path.stem + \".json\")\n",
        "    for path in Path(ROOT / \"textbooks\").glob(\"*.xml\")\n",
        "}\n",
        "\n",
        "#### CAN COMMENT THIS OUT IF TEXTBOOKS HAVE BEEN PARSED ####\n",
        "process_files(file_mapping)\n",
        "############################################################"
      ]
    },
    {
      "cell_type": "code",
      "execution_count": null,
      "metadata": {},
      "outputs": [],
      "source": [
        "from textbooks imoprt parse_json_to_textbook\n",
        "\n",
        "textbooks = [parse_json_to_textbook(path) for path in Path(PARSED_TEXTBOOKS_DIRECTORY).glob(\"*.json\")]\n"
      ]
    },
    {
      "cell_type": "markdown",
      "metadata": {},
      "source": [
        "## "
      ]
    }
  ],
  "metadata": {
    "colab": {
      "collapsed_sections": [
        "4I0zpPkh17F9"
      ],
      "provenance": []
    },
    "kernelspec": {
      "display_name": "Python 3",
      "name": "python3"
    },
    "language_info": {
      "codemirror_mode": {
        "name": "ipython",
        "version": 3
      },
      "file_extension": ".py",
      "mimetype": "text/x-python",
      "name": "python",
      "nbconvert_exporter": "python",
      "pygments_lexer": "ipython3",
      "version": "3.11.3"
    }
  },
  "nbformat": 4,
  "nbformat_minor": 0
}
