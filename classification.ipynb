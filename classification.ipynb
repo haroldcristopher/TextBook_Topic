{
 "cells": [
  {
   "cell_type": "code",
   "execution_count": null,
   "metadata": {},
   "outputs": [],
   "source": [
    "from pathlib import Path\n",
    "\n",
    "\n",
    "from classification.bert import run_bert\n",
    "from classification.nn import preprocess_data\n",
    "from computation.expert import expert_integration\n",
    "from textbooks.data import Textbook"
   ]
  },
  {
   "cell_type": "markdown",
   "metadata": {},
   "source": [
    "# Fine-tune model using expert data"
   ]
  },
  {
   "cell_type": "code",
   "execution_count": null,
   "metadata": {},
   "outputs": [],
   "source": [
    "expert_dataset = expert_integration(\n",
    "    base_textbook=Textbook.from_json(\n",
    "        Path(\"textbooks-parsed/2012_Book_ModernMathematicalStatisticsWi.json\")\n",
    "    ),\n",
    "    other_textbooks=(\n",
    "        Textbook.from_json(\n",
    "            Path(\"textbooks-parsed/Walpole_Probability_and_Statistics.json\")\n",
    "        ),\n",
    "    ),\n",
    ").dataset"
   ]
  },
  {
   "cell_type": "code",
   "execution_count": null,
   "metadata": {},
   "outputs": [],
   "source": [
    "X, y, _ = run_bert(expert_dataset)\n",
    "num_classes, X_train, X_test, y_train, y_test = preprocess_data(X, y)"
   ]
  },
  {
   "cell_type": "code",
   "execution_count": null,
   "metadata": {},
   "outputs": [],
   "source": [
    "from keras.layers import LSTM, SimpleRNN\n",
    "\n",
    "from classification.nn import grid_search_neural_networks\n",
    "\n",
    "param_grid = {\n",
    "    \"model__units\": [100, 125, 150, 200],\n",
    "    \"model__dropout_rate\": [0.4, 0.6, 0.8, 0.9],\n",
    "    \"model__model_type\": [LSTM, SimpleRNN],\n",
    "    \"batch_size\": [32, 64, 128],\n",
    "}\n",
    "\n",
    "best_model = grid_search_neural_networks(\n",
    "    num_classes=num_classes,\n",
    "    X_train=reshape(X_train),\n",
    "    y_train=y_train,\n",
    "    param_grid=param_grid,\n",
    ")\n",
    "best_params = best_model.best_params_\n",
    "\n",
    "performance_metrics(best_model, X_test, y_test)"
   ]
  },
  {
   "cell_type": "markdown",
   "metadata": {},
   "source": [
    "# Cross-validation using generated data"
   ]
  },
  {
   "cell_type": "code",
   "execution_count": null,
   "metadata": {},
   "outputs": [],
   "source": [
    "import os\n",
    "\n",
    "start_caffeinate = lambda: os.system(\"caffeinate &\")\n",
    "end_caffeinate = lambda: os.system(\"pkill caffeinate\")"
   ]
  },
  {
   "cell_type": "code",
   "execution_count": 2,
   "metadata": {},
   "outputs": [],
   "source": [
    "from keras.layers import LSTM\n",
    "\n",
    "from classification.cross_validation import cross_validate\n",
    "\n",
    "best_params = {\n",
    "    \"batch_size\": 32,\n",
    "    \"model__dropout_rate\": 0.8,\n",
    "    \"model__model_type\": LSTM,\n",
    "    \"model__units\": 150,\n",
    "}\n",
    "\n",
    "start_caffeinate()\n",
    "\n",
    "cross_validate(\n",
    "    base_textbook=\"2012_Book_ModernMathematicalStatisticsWi\", params=best_params\n",
    ")\n",
    "\n",
    "end_caffeinate()"
   ]
  },
  {
   "cell_type": "code",
   "execution_count": null,
   "metadata": {},
   "outputs": [],
   "source": []
  }
 ],
 "metadata": {
  "kernelspec": {
   "display_name": "Python 3",
   "language": "python",
   "name": "python3"
  },
  "language_info": {
   "codemirror_mode": {
    "name": "ipython",
    "version": 3
   },
   "file_extension": ".py",
   "mimetype": "text/x-python",
   "name": "python",
   "nbconvert_exporter": "python",
   "pygments_lexer": "ipython3",
   "version": "3.11.3"
  }
 },
 "nbformat": 4,
 "nbformat_minor": 2
}
