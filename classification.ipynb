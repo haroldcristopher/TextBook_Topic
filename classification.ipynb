{
 "cells": [
  {
   "cell_type": "code",
   "execution_count": null,
   "metadata": {},
   "outputs": [],
   "source": [
    "from pathlib import Path\n",
    "\n",
    "import json\n",
    "\n",
    "from classification.bert import run_bert\n",
    "from classification.nn import preprocess_data\n",
    "from textbooks.data import Textbook"
   ]
  },
  {
   "cell_type": "markdown",
   "metadata": {},
   "source": [
    "# Fine-tune model using expert data"
   ]
  },
  {
   "cell_type": "code",
   "execution_count": null,
   "metadata": {},
   "outputs": [],
   "source": [
    "from computation.expert import expert_integration\n",
    "\n",
    "expert_dataset = expert_integration(\n",
    "    base_textbook=Textbook.from_json(\n",
    "        Path(\"textbooks-parsed/2012_Book_ModernMathematicalStatisticsWi.json\")\n",
    "    ),\n",
    "    other_textbooks=(\n",
    "        Textbook.from_json(\n",
    "            Path(\"textbooks-parsed/Walpole_Probability_and_Statistics.json\")\n",
    "        ),\n",
    "    ),\n",
    ").dataset"
   ]
  },
  {
   "cell_type": "code",
   "execution_count": null,
   "metadata": {},
   "outputs": [],
   "source": [
    "X, y, _ = run_bert(expert_dataset)\n",
    "num_classes, X_train, X_test, y_train, y_test = preprocess_data(X, y)"
   ]
  },
  {
   "cell_type": "code",
   "execution_count": null,
   "metadata": {},
   "outputs": [],
   "source": [
    "from keras.layers import LSTM, SimpleRNN\n",
    "\n",
    "from classification.nn import grid_search_neural_networks, reshape, performance_metrics\n",
    "\n",
    "param_grid = {\n",
    "    \"model__units\": [100, 125, 150, 200],\n",
    "    \"model__dropout_rate\": [0.4, 0.6, 0.8, 0.9],\n",
    "    \"model__model_type\": [LSTM, SimpleRNN],\n",
    "    \"batch_size\": [32, 64, 128],\n",
    "}\n",
    "\n",
    "best_model = grid_search_neural_networks(\n",
    "    num_classes=num_classes,\n",
    "    X_train=reshape(X_train),\n",
    "    y_train=y_train,\n",
    "    param_grid=param_grid,\n",
    ")\n",
    "best_params = best_model.best_params_\n",
    "\n",
    "performance_metrics(best_model, X_test, y_test)"
   ]
  },
  {
   "cell_type": "markdown",
   "metadata": {},
   "source": [
    "# Cross-validation using generated data"
   ]
  },
  {
   "cell_type": "code",
   "execution_count": null,
   "metadata": {},
   "outputs": [],
   "source": [
    "BASE_TEXTBOOK = \"2012_Book_ModernMathematicalStatisticsWi\""
   ]
  },
  {
   "cell_type": "markdown",
   "metadata": {},
   "source": [
    "## Generate data"
   ]
  },
  {
   "cell_type": "code",
   "execution_count": null,
   "metadata": {},
   "outputs": [],
   "source": [
    "from computation.pipeline import pipeline_integration\n",
    "from textbooks.utils import extract_content\n",
    "\n",
    "\n",
    "base_textbook_path = Path(f\"textbooks-parsed/{BASE_TEXTBOOK}.json\")\n",
    "base_textbook = Textbook.from_json(base_textbook_path)\n",
    "other_textbooks = [\n",
    "    Textbook.from_json(p)\n",
    "    for p in Path(\"textbooks-parsed\").glob(\"*\")\n",
    "    if p != base_textbook_path\n",
    "]\n",
    "\n",
    "integrated_textbook = pipeline_integration(\n",
    "    base_textbook,\n",
    "    other_textbooks,\n",
    "    tfidf_text_extraction_fns=[extract_content],\n",
    "    tfidf_threshold=0.6,\n",
    "    tfidf_uncertain_threshold=0.5,\n",
    "    d2v_text_extraction_fn=extract_content,\n",
    "    d2v_threshold=0.5,\n",
    "    d2v_vector_size=50,\n",
    "    d2v_min_count=1,\n",
    "    evaluate=False,\n",
    ")\n",
    "dataset = integrated_textbook.dataset"
   ]
  },
  {
   "cell_type": "code",
   "execution_count": null,
   "metadata": {},
   "outputs": [],
   "source": [
    "print(\"Number of topic labels:\", len(set(d[\"topic\"] for d in dataset)))\n",
    "print(\"Number of data points:\", len(dataset))"
   ]
  },
  {
   "cell_type": "code",
   "execution_count": null,
   "metadata": {},
   "outputs": [],
   "source": [
    "with open(\"datasets-new.json\", \"w\") as f:\n",
    "    json.dump(dataset, f)"
   ]
  },
  {
   "cell_type": "markdown",
   "metadata": {},
   "source": [
    "## Load data"
   ]
  },
  {
   "cell_type": "code",
   "execution_count": null,
   "metadata": {},
   "outputs": [],
   "source": [
    "with open(\"datasets-new.json\", encoding=\"utf-8\") as f:\n",
    "    dataset = json.load(f)\n",
    "X, y, textbooks = run_bert(dataset)\n",
    "num_classes, X_train, X_test, y_train, y_test = preprocess_data(X, y)"
   ]
  },
  {
   "cell_type": "markdown",
   "metadata": {},
   "source": [
    "## Fine tuning"
   ]
  },
  {
   "cell_type": "code",
   "execution_count": null,
   "metadata": {},
   "outputs": [],
   "source": [
    "import numpy as np\n",
    "from keras.layers import LSTM, SimpleRNN\n",
    "\n",
    "from classification.grid_search import grid_search_neural_networks\n",
    "from classification.nn import performance_metrics, reshape\n",
    "\n",
    "param_grid = {\n",
    "    \"model__units\": [100, 125, 150, 200],\n",
    "    \"model__dropout_rate\": [0.4, 0.6, 0.8, 0.9],\n",
    "    \"model__model_type\": [LSTM, SimpleRNN],\n",
    "    \"batch_size\": [32, 64, 128],\n",
    "}\n",
    "\n",
    "best_model = grid_search_neural_networks(\n",
    "    num_classes=num_classes,\n",
    "    X_train=reshape(X_train),\n",
    "    y_train=y_train,\n",
    "    param_grid=param_grid,\n",
    ")\n",
    "best_params = best_model.best_params_\n",
    "\n",
    "performance_metrics(best_model, X_test, y_test)\n",
    "\n",
    "\n",
    "y_pred_probabilities = best_model.predict(reshape(X_test))\n",
    "y_pred = np.argmax(y_pred_probabilities, axis=1)\n",
    "\n",
    "results = performance_metrics(y_pred, y_test)"
   ]
  }
 ],
 "metadata": {
  "kernelspec": {
   "display_name": "Python 3",
   "language": "python",
   "name": "python3"
  },
  "language_info": {
   "codemirror_mode": {
    "name": "ipython",
    "version": 3
   },
   "file_extension": ".py",
   "mimetype": "text/x-python",
   "name": "python",
   "nbconvert_exporter": "python",
   "pygments_lexer": "ipython3",
   "version": "3.11.3"
  }
 },
 "nbformat": 4,
 "nbformat_minor": 2
}
