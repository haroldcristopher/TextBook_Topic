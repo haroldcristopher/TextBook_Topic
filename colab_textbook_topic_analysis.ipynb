{
  "cells": [
    {
      "cell_type": "code",
      "execution_count": null,
      "metadata": {
        "colab": {
          "base_uri": "https://localhost:8080/"
        },
        "id": "BQbY46it1Sbz",
        "outputId": "0390ae50-85da-48a5-f3c7-d1911bf1e16a"
      },
      "outputs": [],
      "source": [
        "from pathlib import Path\n",
        "import os\n",
        "import sys\n",
        "\n",
        "try:\n",
        "    from google.colab import drive\n",
        "\n",
        "    drive.mount(\"/content/drive\", force_remount=True)\n",
        "    ROOT = Path(\"/content/drive/MyDrive/textbook-topic-analysis\")\n",
        "    os.chdir(str(ROOT))  # Change the working directory for file operations\n",
        "    sys.path.append(str(ROOT))  # Add the directory to sys.path for imports\n",
        "except ImportError:\n",
        "    ROOT = Path(\".\")"
      ]
    },
    {
      "cell_type": "code",
      "execution_count": null,
      "metadata": {
        "colab": {
          "base_uri": "https://localhost:8080/"
        },
        "id": "NbkL-BpnY1Ts",
        "outputId": "8d247a0d-2ba2-4c35-bdb7-d70dd11e10bf"
      },
      "outputs": [],
      "source": [
        "%%capture\n",
        "! pip install -r {str(ROOT / \"requirements.txt\")}"
      ]
    },
    {
      "cell_type": "code",
      "execution_count": null,
      "metadata": {
        "id": "Bi_XjWLpY1Ts"
      },
      "outputs": [],
      "source": [
        "from textbooks.data import Textbook\n",
        "from pathlib import Path\n",
        "\n",
        "base_textbook = Textbook.from_json(\n",
        "    Path(\"textbooks-parsed/2012_Book_ModernMathematicalStatisticsWi.json\")\n",
        ")\n",
        "\n",
        "other_textbooks = [\n",
        "    Textbook.from_json(Path(\"textbooks-parsed/Walpole_Probability_and_Statistics.json\"))\n",
        "]"
      ]
    },
    {
      "cell_type": "markdown",
      "metadata": {
        "id": "U1IPvgh8Y1Tx"
      },
      "source": [
        "# Top2Vec"
      ]
    },
    {
      "cell_type": "markdown",
      "metadata": {
        "id": "lO0y6SsbaPJd"
      },
      "source": [
        "## 6. Content"
      ]
    },
    {
      "cell_type": "code",
      "execution_count": null,
      "metadata": {
        "colab": {
          "base_uri": "https://localhost:8080/"
        },
        "id": "UxfQR1KMY1Tx",
        "outputId": "c5992614-9055-4028-9d98-bb7b07f4d926"
      },
      "outputs": [],
      "source": [
        "from computations.top2vec import top2vec_integration\n",
        "\n",
        "top2vec_integration(lambda section: section.content, 0.7)"
      ]
    }
  ],
  "metadata": {
    "colab": {
      "collapsed_sections": [
        "4I0zpPkh17F9"
      ],
      "provenance": []
    },
    "kernelspec": {
      "display_name": "Python 3",
      "name": "python3"
    },
    "language_info": {
      "codemirror_mode": {
        "name": "ipython",
        "version": 3
      },
      "file_extension": ".py",
      "mimetype": "text/x-python",
      "name": "python",
      "nbconvert_exporter": "python",
      "pygments_lexer": "ipython3",
      "version": "3.11.3"
    }
  },
  "nbformat": 4,
  "nbformat_minor": 0
}
